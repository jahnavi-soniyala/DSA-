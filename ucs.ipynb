{
 "cells": [
  {
   "cell_type": "code",
   "execution_count": 2,
   "id": "5ac8c71a-6cc7-44f5-b9e9-b810befe892e",
   "metadata": {},
   "outputs": [],
   "source": [
    "graph={\n",
    "'s':[('a',2),('b',3),('d',5)],\n",
    "'a':[('c',4)],\n",
    "'b':[('d',4)],\n",
    "'c':[('d',1),('g',2)],\n",
    "'d':[('g',2)],\n",
    "'g':[]\n",
    "}"
   ]
  },
  {
   "cell_type": "code",
   "execution_count": 3,
   "id": "a07bb42e-f81d-4c4e-ae7c-69253878d5a5",
   "metadata": {},
   "outputs": [],
   "source": [
    "def path_cost(path):\n",
    "    total=0;\n",
    "    for node,cost in path:\n",
    "        total=total+cost\n",
    "    return total,path[-1][0]"
   ]
  },
  {
   "cell_type": "code",
   "execution_count": 19,
   "id": "33e59db3-2b8c-4820-bb5d-50477fbaa2de",
   "metadata": {},
   "outputs": [],
   "source": [
    "def ucs(graph,start,goal):\n",
    "    visit=[]\n",
    "    queue=[[(start,0)]]\n",
    "    while queue:\n",
    "        queue.sort(key=path_cost)\n",
    "        path=queue.pop(0)\n",
    "        node=path[-1][0]\n",
    "        if node in visit:\n",
    "            continue\n",
    "        if node == goal:\n",
    "            return path\n",
    "        else:\n",
    "            neighbour=graph.get(node,[])\n",
    "            for node2,cost in neighbour:\n",
    "                new_path=path.copy()\n",
    "                new_path.append((node2,cost))\n",
    "                queue.append(new_path)\n"
   ]
  },
  {
   "cell_type": "code",
   "execution_count": 20,
   "id": "4aeb56b8-6655-4cb2-af4b-6422045bf40f",
   "metadata": {},
   "outputs": [
    {
     "name": "stdout",
     "output_type": "stream",
     "text": [
      "[('s', 0), ('d', 5), ('g', 2)]\n"
     ]
    }
   ],
   "source": [
    "s=ucs(graph,'s','g')\n",
    "print(s)"
   ]
  }
 ],
 "metadata": {
  "kernelspec": {
   "display_name": "Python 3 (ipykernel)",
   "language": "python",
   "name": "python3"
  },
  "language_info": {
   "codemirror_mode": {
    "name": "ipython",
    "version": 3
   },
   "file_extension": ".py",
   "mimetype": "text/x-python",
   "name": "python",
   "nbconvert_exporter": "python",
   "pygments_lexer": "ipython3",
   "version": "3.11.7"
  }
 },
 "nbformat": 4,
 "nbformat_minor": 5
}
